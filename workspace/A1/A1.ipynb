{
 "cells": [
  {
   "cell_type": "code",
   "execution_count": 151,
   "id": "354b73eaef995645",
   "metadata": {
    "collapsed": false,
    "ExecuteTime": {
     "end_time": "2024-01-09T08:43:59.939270Z",
     "start_time": "2024-01-09T08:43:59.932213Z"
    }
   },
   "outputs": [],
   "source": [
    "import sys\n",
    "import os\n",
    "\n",
    "from matplotlib import pyplot as plt\n",
    "from scipy.io.wavfile import read, write\n",
    "import numpy as np\n",
    "\n",
    "sys.path.append('../../software/models/')"
   ]
  },
  {
   "cell_type": "code",
   "outputs": [],
   "source": [
    "# constants \n",
    "INT16_FAC = (2 ** 15)\n",
    "INT32_FAC = (2 ** 31)\n",
    "INT64_FAC = (2 ** 63)\n",
    "norm_fact = {'int16': INT16_FAC, 'int32': INT32_FAC, 'int64': INT64_FAC, 'float32': 1.0, 'float64': 1.0}"
   ],
   "metadata": {
    "collapsed": false,
    "ExecuteTime": {
     "end_time": "2024-01-09T08:15:03.495484Z",
     "start_time": "2024-01-09T08:15:03.492387Z"
    }
   },
   "id": "3caf4e9210496059",
   "execution_count": 102
  },
  {
   "cell_type": "code",
   "outputs": [],
   "source": [
    "def read_raw_y(file_path):\n",
    "    if (os.path.isfile(file_path) == False):  # raise error if wrong input file\n",
    "        raise ValueError(\"Input file is wrong\")\n",
    "\n",
    "    (fs, y) = read(file_path)\n",
    "    return fs, y"
   ],
   "metadata": {
    "collapsed": false
   },
   "id": "427229e17988b81",
   "execution_count": null
  },
  {
   "cell_type": "code",
   "outputs": [],
   "source": [
    "def write_wav_file(file_path, fs, y):\n",
    "    write(file_path, fs, y)"
   ],
   "metadata": {
    "collapsed": false,
    "ExecuteTime": {
     "end_time": "2024-01-09T08:43:40.832506Z",
     "start_time": "2024-01-09T08:43:40.824847Z"
    }
   },
   "id": "d52d090284884b6c",
   "execution_count": 148
  },
  {
   "cell_type": "code",
   "outputs": [],
   "source": [
    "def get_normalized_y(raw_y):        \n",
    "    normalized_raw_y = np.float32(raw_y) / norm_fact[raw_y.dtype.name]\n",
    "    return normalized_raw_y"
   ],
   "metadata": {
    "collapsed": false,
    "ExecuteTime": {
     "end_time": "2024-01-09T08:15:03.513358Z",
     "start_time": "2024-01-09T08:15:03.500751Z"
    }
   },
   "id": "960cb67670e736bd",
   "execution_count": 104
  },
  {
   "cell_type": "code",
   "outputs": [],
   "source": [
    "def read_and_normalize(file_path):\n",
    "    (fs, y) = read_raw_y(file_path)\n",
    "    return fs, get_normalized_y(y)"
   ],
   "metadata": {
    "collapsed": false,
    "ExecuteTime": {
     "end_time": "2024-01-09T08:15:03.513654Z",
     "start_time": "2024-01-09T08:15:03.503904Z"
    }
   },
   "id": "b04c98463acf677b",
   "execution_count": 105
  },
  {
   "cell_type": "code",
   "outputs": [],
   "source": [
    "\"\"\"\n",
    "A1-Part-1: Reading an audio file\n",
    "\n",
    "Write a function that reads an audio file and returns 10 consecutive samples of the file starting from \n",
    "the 50001th sample. This means that the output should exactly contain the 50001th sample to the 50010th \n",
    "sample (10 samples). \n",
    "\n",
    "The input to the function is the file name (including the path) and the output should be a numpy array \n",
    "containing 10 samples.\n",
    "\n",
    "If you use the wavread function from the utilFunctions module the input samples will be automatically \n",
    "converted to floating point numbers with a range from -1 to 1, which is what we want. \n",
    "\n",
    "Remember that in python, the index of the first sample of an array is 0 and not 1.\n",
    "\n",
    "If you run your code using piano.wav as the input, the function should return the following 10 samples:  \n",
    "array([-0.06213569, -0.04541154, -0.02734458, -0.0093997 ,  0.00769066,\t0.02319407,  0.03503525, \n",
    "0.04309214, 0.04626606,  0.0441908], dtype=float32)\n",
    "\"\"\"\n",
    "\n",
    "def read_audio(input_file, offset=50000, num_of_samples=10):\n",
    "    \"\"\"\n",
    "    Input:\n",
    "        inputFile: the path to the wav file      \n",
    "    Output:\n",
    "        The function should return a numpy array that contains 10 samples of the audio.\n",
    "    \"\"\"\n",
    "    (fs, raw_y) = read(input_file)\n",
    "    normalized_raw_y = get_normalized_y(raw_y)\n",
    "    sampled_normalized_y = normalized_raw_y[offset:offset+num_of_samples]\n",
    "    return sampled_normalized_y\n",
    "    "
   ],
   "metadata": {
    "collapsed": false,
    "ExecuteTime": {
     "end_time": "2024-01-09T08:15:03.513866Z",
     "start_time": "2024-01-09T08:15:03.508307Z"
    }
   },
   "id": "6749fd51ba7f9600",
   "execution_count": 106
  },
  {
   "cell_type": "code",
   "outputs": [
    {
     "data": {
      "text/plain": "array([-0.06213379, -0.04541016, -0.02734375, -0.00939941,  0.00769043,\n        0.02319336,  0.03503418,  0.04309082,  0.04626465,  0.04418945],\n      dtype=float32)"
     },
     "execution_count": 128,
     "metadata": {},
     "output_type": "execute_result"
    }
   ],
   "source": [
    "piano_wav = read_audio('../../sounds/piano.wav')\n",
    "piano_wav"
   ],
   "metadata": {
    "collapsed": false,
    "ExecuteTime": {
     "end_time": "2024-01-09T08:34:35.869746Z",
     "start_time": "2024-01-09T08:34:35.863714Z"
    }
   },
   "id": "7995b74be9a97ca5",
   "execution_count": 128
  },
  {
   "cell_type": "code",
   "outputs": [],
   "source": [
    "\"\"\"\n",
    "A1-Part-2: Basic operations with audio\n",
    "\n",
    "Write a function that reads an audio file and returns the minimum and the maximum values of the audio \n",
    "samples in that file. \n",
    "\n",
    "The input to the function is the wav file name (including the path) and the output should be two floating \n",
    "point values returned as a tuple.\n",
    "\n",
    "If you run your code using oboe-A4.wav as the input, the function should return the following output:  \n",
    "(-0.83486432, 0.56501967)\n",
    "\"\"\"\n",
    "def minMaxAudio(inputFile):\n",
    "    \"\"\"\n",
    "    Input:\n",
    "        inputFile: file name of the wav file (including path)\n",
    "    Output:\n",
    "        A tuple of the minimum and the maximum value of the audio samples, like: (min_val, max_val)\n",
    "\n",
    "    \"\"\"\n",
    "    (fs, y) = read_and_normalize(inputFile)\n",
    "    return np.min(y), np.max(y)"
   ],
   "metadata": {
    "collapsed": false,
    "ExecuteTime": {
     "end_time": "2024-01-09T08:15:03.520713Z",
     "start_time": "2024-01-09T08:15:03.516106Z"
    }
   },
   "id": "66aad30158a9e5bf",
   "execution_count": 108
  },
  {
   "cell_type": "code",
   "outputs": [
    {
     "data": {
      "text/plain": "(-0.83483887, 0.56500244)"
     },
     "execution_count": 109,
     "metadata": {},
     "output_type": "execute_result"
    }
   ],
   "source": [
    "minMaxAudio('../../sounds/oboe-A4.wav')"
   ],
   "metadata": {
    "collapsed": false,
    "ExecuteTime": {
     "end_time": "2024-01-09T08:15:03.524055Z",
     "start_time": "2024-01-09T08:15:03.520041Z"
    }
   },
   "id": "178715099bf36541",
   "execution_count": 109
  },
  {
   "cell_type": "code",
   "outputs": [],
   "source": [
    "\"\"\"\n",
    "A1-Part-3: Python array indexing\n",
    "\n",
    "Write a function that given a numpy array x, returns every Mth element in x, starting from the \n",
    "first element.  \n",
    "\n",
    "The input arguments to this function are a numpy array x and a positive integer M such that M < number of \n",
    "elements in x. The output of this function should be a numpy array.\n",
    "\n",
    "If you run your code with x = np.arange(10) and M = 2, the function should return the following output: \n",
    "array([0, 2, 4, 6, 8]).\n",
    "\"\"\"\n",
    "def hopSamples(x,M):\n",
    "    \"\"\"\n",
    "    Inputs:\n",
    "        x: input numpy array\n",
    "        M: hop size (positive integer)\n",
    "    Output:\n",
    "        A numpy array containing every Mth element in x, starting from the first element in x.\n",
    "    \"\"\"\n",
    "    return x[::M]\n",
    "    "
   ],
   "metadata": {
    "collapsed": false,
    "ExecuteTime": {
     "end_time": "2024-01-09T08:23:19.386853Z",
     "start_time": "2024-01-09T08:23:19.383788Z"
    }
   },
   "id": "e601c0689309b8d9",
   "execution_count": 117
  },
  {
   "cell_type": "code",
   "outputs": [
    {
     "data": {
      "text/plain": "array([0, 2, 4, 6, 8])"
     },
     "execution_count": 123,
     "metadata": {},
     "output_type": "execute_result"
    }
   ],
   "source": [
    "x = np.arange(10) \n",
    "M = 2 \n",
    "hopSamples(x, M)"
   ],
   "metadata": {
    "collapsed": false,
    "ExecuteTime": {
     "end_time": "2024-01-09T08:23:50.421078Z",
     "start_time": "2024-01-09T08:23:50.415288Z"
    }
   },
   "id": "4d99f7076fd21b58",
   "execution_count": 123
  },
  {
   "cell_type": "code",
   "outputs": [],
   "source": [
    "\"\"\"\n",
    "A1-Part-4: Downsampling audio: Changing the sampling rate\n",
    "\n",
    "One of the required processes to represent a signal inside a computer is sampling. The sampling rate is the number of samples obtained in one second when sampling a continuous analog signal to a discrete digital signal. As mentioned earlier, most of the time we will be working with wav audio files that have a sampling rate of 44100 Hz, which is a typical value. For some applications, changing the sampling rate of an audio signal can be necessary. This optional part shows how to do this, from a higher sampling rate to a lower one.\n",
    "\n",
    "Complete the function downsampleAudio(inputFile,M) in the file A1Part4.py so that given an audio file, it applies downsampling by a factor of M and create a wav audio file <input_name>_downsampled.wav at a lower sampling rate.\n",
    "\n",
    "In Part1 you learned how to read a wav file and the function from Part3 can be used to perform the downsampling of a signal contained in an array. To create a wav audio file from an array, you can use the wavwrite function from the utilFunctions module. Be careful with the sampling rate parameter since it should be different from that of the original audio.\n",
    "\n",
    "You can test your code using the file `vibraphone-C6.wav' and a downsampling factor of M=16. \n",
    "Listen to the `vibraphone-C6_downsampled.wav' sound. What happened to the signal?\n",
    "How could we avoid damaging the signal when downsampling it?\n",
    "You can find some related information in https://en.wikipedia.org/wiki/Decimation_%28signal_processing%29.\n",
    "\"\"\"\n",
    "\n",
    "def downsample_audio(inputFile, M):\n",
    "    \"\"\"\n",
    "    Inputs:\n",
    "        inputFile: file name of the wav file (including path)\n",
    "        \tM: downsampling factor (positive integer)\n",
    "    \"\"\"\n",
    "    (fs, x) = read_and_normalize(inputFile)\n",
    "    downsampled_audio =  hopSamples(x, M)\n",
    "    return fs, downsampled_audio\n",
    "    "
   ],
   "metadata": {
    "collapsed": false,
    "ExecuteTime": {
     "end_time": "2024-01-09T08:41:28.637478Z",
     "start_time": "2024-01-09T08:41:28.634532Z"
    }
   },
   "id": "410c837cc33ef2bb",
   "execution_count": 138
  },
  {
   "cell_type": "code",
   "outputs": [],
   "source": [
    "M = 16\n",
    "fs, downsampled_vibraphone = downsample_audio('../../sounds/oboe-A4.wav', M)\n",
    "new_fs = int(fs/M)ß\n",
    "write_wav_file('../../sounds/original/oboe-A4_downsampled.wav', new_fs, downsampled_vibraphone)"
   ],
   "metadata": {
    "collapsed": false,
    "ExecuteTime": {
     "end_time": "2024-01-09T08:55:02.736465Z",
     "start_time": "2024-01-09T08:55:02.726168Z"
    }
   },
   "id": "73923ca2cbb2e1d8",
   "execution_count": 158
  },
  {
   "cell_type": "code",
   "outputs": [],
   "source": [],
   "metadata": {
    "collapsed": false
   },
   "id": "d24f6f17bb77bc0c"
  }
 ],
 "metadata": {
  "kernelspec": {
   "display_name": "Python 3",
   "language": "python",
   "name": "python3"
  },
  "language_info": {
   "codemirror_mode": {
    "name": "ipython",
    "version": 2
   },
   "file_extension": ".py",
   "mimetype": "text/x-python",
   "name": "python",
   "nbconvert_exporter": "python",
   "pygments_lexer": "ipython2",
   "version": "2.7.6"
  }
 },
 "nbformat": 4,
 "nbformat_minor": 5
}
